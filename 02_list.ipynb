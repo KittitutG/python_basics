{
 "cells": [
  {
   "cell_type": "code",
   "execution_count": null,
   "metadata": {},
   "outputs": [],
   "source": [
    "my_list = [\"apple\", \"banana\", \"cherry\"]\n",
    "\n",
    "print(my_list[0],my_list[1],my_list[2]) #List starting from 0\n",
    "#expect output apple,banana,cherry\n",
    "print('--------------------')\n",
    "# negative index\n",
    "print(my_list[-1]) #reversal order\n",
    "# expect output is cherry\n",
    "print('--------------------')\n",
    "\n",
    "# index range\n",
    "print(my_list[1:2]) #get item starting from 1 till 2\n",
    "# expect output is banana as a list of string\n",
    "print('--------------------')\n",
    "\n",
    "# by leaving empty, this mean either getting from start/end\n",
    "print(my_list[:1],': should retun from start till item1')\n",
    "# expect output is apple\n",
    "print(my_list[1:],': should retun from item1 till end of lis')\n",
    "# expect output is banana, cherry \n"
   ]
  },
  {
   "cell_type": "code",
   "execution_count": null,
   "metadata": {},
   "outputs": [],
   "source": [
    "# update element\n",
    "my_list[1] = 'watermelon'\n",
    "print(my_list)\n",
    "\n",
    "# update range of item\n",
    "my_list[:2] = 'vanilla','coffe'\n",
    "print(my_list)"
   ]
  },
  {
   "cell_type": "code",
   "execution_count": null,
   "metadata": {},
   "outputs": [],
   "source": [
    "\n",
    "#append() item\n",
    "my_list.append('coke')\n",
    "print(my_list)\n",
    "\n",
    "#insert() on specific index\n",
    "my_list.insert(3,'pepsi')\n",
    "print(my_list)\n",
    "\n",
    "#extend() list from other list\n",
    "oth_list = ['car','bus','van']\n",
    "my_list.extend(oth_list)\n",
    "print(my_list)\n",
    "print('-------------------------')\n",
    "# extend() also applied with other Iterator object\n",
    "tup_obj = ('obj1','obj2')\n",
    "print('tup_obj type is, ', type(tuple), 'existing list object type is', type(my_list))\n",
    "my_list.extend(tup_obj)\n",
    "print(my_list,'----------',type(my_list))"
   ]
  }
 ],
 "metadata": {
  "language_info": {
   "name": "python"
  }
 },
 "nbformat": 4,
 "nbformat_minor": 2
}
