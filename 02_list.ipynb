{
 "cells": [
  {
   "cell_type": "markdown",
   "metadata": {},
   "source": [
    "list method\n",
    "https://www.w3schools.com/python/python_lists_methods.asp"
   ]
  },
  {
   "cell_type": "code",
   "execution_count": null,
   "metadata": {},
   "outputs": [],
   "source": [
    "my_list = [\"apple\", \"banana\", \"cherry\"]\n",
    "\n",
    "print(my_list[0],my_list[1],my_list[2]) #List starting from 0\n",
    "#expect output apple,banana,cherry\n",
    "print('--------------------')\n",
    "# negative index\n",
    "print(my_list[-1]) #reversal order\n",
    "# expect output is cherry\n",
    "print('--------------------')\n",
    "\n",
    "# index range\n",
    "print(my_list[1:2]) #get item starting from 1 till 2\n",
    "# expect output is banana as a list of string\n",
    "print('--------------------')\n",
    "\n",
    "# by leaving empty, this mean either getting from start/end\n",
    "print(my_list[:1],': should retun from start till item1')\n",
    "# expect output is apple\n",
    "print(my_list[1:],': should retun from item1 till end of lis')\n",
    "# expect output is banana, cherry \n"
   ]
  },
  {
   "cell_type": "code",
   "execution_count": null,
   "metadata": {},
   "outputs": [],
   "source": [
    "# update element\n",
    "my_list[1] = 'watermelon'\n",
    "print(my_list)\n",
    "\n",
    "# update range of item\n",
    "my_list[:2] = 'vanilla','coffe'\n",
    "print(my_list)"
   ]
  },
  {
   "cell_type": "code",
   "execution_count": null,
   "metadata": {},
   "outputs": [],
   "source": [
    "\n",
    "#append() item\n",
    "my_list.append('coke')\n",
    "print(my_list)\n",
    "\n",
    "#insert() on specific index\n",
    "my_list.insert(3,'pepsi')\n",
    "print(my_list)\n",
    "\n",
    "#extend() list from other list\n",
    "oth_list = ['car','bus','van']\n",
    "my_list.extend(oth_list)\n",
    "print(my_list)\n",
    "print('-------------------------')\n",
    "# extend() also applied with other Iterator object\n",
    "tup_obj = ('obj1','obj2')\n",
    "print('tup_obj type is, ', type(tuple), 'existing list object type is', type(my_list))\n",
    "my_list.extend(tup_obj)\n",
    "print(my_list,'----------',type(my_list))"
   ]
  },
  {
   "cell_type": "markdown",
   "metadata": {},
   "source": [
    "erase list"
   ]
  },
  {
   "cell_type": "code",
   "execution_count": 5,
   "metadata": {},
   "outputs": [
    {
     "name": "stdout",
     "output_type": "stream",
     "text": [
      "['vanilla', 'cherry', 'coke']\n"
     ]
    }
   ],
   "source": [
    "#remove --> delete specific item in list \n",
    "lst0 = ['vanilla', 'coffe', 'cherry', 'coke']\n",
    "lst0.remove('coffe')\n",
    "print(lst0)"
   ]
  },
  {
   "cell_type": "code",
   "execution_count": 4,
   "metadata": {},
   "outputs": [
    {
     "name": "stdout",
     "output_type": "stream",
     "text": [
      "['vanilla', 'coffe', 'cherry']\n",
      "['vanilla', 'cherry']\n"
     ]
    }
   ],
   "source": [
    "#pop --> remove specific index , if no parameter pass --> remove laste item\n",
    "lst1 = ['vanilla', 'coffe', 'cherry', 'coke']\n",
    "lst1.pop()\n",
    "print(lst1) #pop() with no param\n",
    "lst1.pop(1)\n",
    "print(lst1)"
   ]
  },
  {
   "cell_type": "code",
   "execution_count": 6,
   "metadata": {},
   "outputs": [
    {
     "name": "stdout",
     "output_type": "stream",
     "text": [
      "[] []\n"
     ]
    }
   ],
   "source": [
    "#clear --> empty list\n",
    "lst0.clear()\n",
    "lst1.clear()\n",
    "print(lst0,lst1)"
   ]
  },
  {
   "cell_type": "markdown",
   "metadata": {},
   "source": [
    "List Comprehension"
   ]
  },
  {
   "cell_type": "code",
   "execution_count": 7,
   "metadata": {},
   "outputs": [
    {
     "name": "stdout",
     "output_type": "stream",
     "text": [
      "['apple', 'banana', 'mango']\n"
     ]
    }
   ],
   "source": [
    "#writing as a normal loop\n",
    "fruits = [\"apple\", \"banana\", \"cherry\", \"kiwi\", \"mango\"]\n",
    "newlist = []\n",
    "\n",
    "for x in fruits:\n",
    "  if \"a\" in x:\n",
    "    newlist.append(x)\n",
    "\n",
    "print(newlist)"
   ]
  },
  {
   "cell_type": "code",
   "execution_count": 9,
   "metadata": {},
   "outputs": [
    {
     "name": "stdout",
     "output_type": "stream",
     "text": [
      "['apple', 'banana', 'mango']\n"
     ]
    }
   ],
   "source": [
    "#wriing as a list comprehension\n",
    "fruits = [\"apple\", \"banana\", \"cherry\", \"kiwi\", \"mango\"]\n",
    "new_list = [x for x in fruits if \"a\" in x]\n",
    "print(newlist)"
   ]
  },
  {
   "cell_type": "code",
   "execution_count": 11,
   "metadata": {},
   "outputs": [
    {
     "name": "stdout",
     "output_type": "stream",
     "text": [
      "['APPLE', 'BANANA', 'MANGO']\n"
     ]
    }
   ],
   "source": [
    "#do an expression\n",
    "fruits = [\"apple\", \"banana\", \"cherry\", \"kiwi\", \"mango\"]\n",
    "new_list = [x.upper() for x in fruits if \"a\" in x]\n",
    "print(new_list)"
   ]
  },
  {
   "cell_type": "markdown",
   "metadata": {},
   "source": [
    "# sort"
   ]
  },
  {
   "cell_type": "code",
   "execution_count": 12,
   "metadata": {},
   "outputs": [
    {
     "name": "stdout",
     "output_type": "stream",
     "text": [
      "['apple', 'banana', 'cherry', 'kiwi', 'mango']\n"
     ]
    }
   ],
   "source": [
    "#sort ASC , case sensitive\n",
    "fruits = [\"apple\", \"banana\", \"cherry\", \"kiwi\", \"mango\"]\n",
    "fruits.sort()\n",
    "print(fruits)"
   ]
  },
  {
   "cell_type": "code",
   "execution_count": 13,
   "metadata": {},
   "outputs": [
    {
     "name": "stdout",
     "output_type": "stream",
     "text": [
      "['mango', 'kiwi', 'cherry', 'banana', 'apple']\n"
     ]
    }
   ],
   "source": [
    "#sort DESC , case sensitive\n",
    "fruits = [\"apple\", \"banana\", \"cherry\", \"kiwi\", \"mango\"]\n",
    "fruits.sort(reverse=True)\n",
    "print(fruits)"
   ]
  },
  {
   "cell_type": "markdown",
   "metadata": {},
   "source": [
    "# COPY"
   ]
  },
  {
   "cell_type": "code",
   "execution_count": 14,
   "metadata": {},
   "outputs": [
    {
     "name": "stdout",
     "output_type": "stream",
     "text": [
      "['mango', 'kiwi', 'cherry', 'banana']\n",
      "['mango', 'kiwi', 'cherry', 'banana', 'apple']\n"
     ]
    }
   ],
   "source": [
    "#we can not simply set list1 = list2 --> this is pass by reference, what changes happen to list1 will also happen to list2 as well\n",
    "#we need to do a deep clone by using COPY\n",
    "basket = fruits.copy()\n",
    "fruits.pop()\n",
    "print(fruits)\n",
    "print(basket)"
   ]
  },
  {
   "cell_type": "code",
   "execution_count": null,
   "metadata": {},
   "outputs": [],
   "source": []
  }
 ],
 "metadata": {
  "kernelspec": {
   "display_name": "Python 3",
   "language": "python",
   "name": "python3"
  },
  "language_info": {
   "codemirror_mode": {
    "name": "ipython",
    "version": 3
   },
   "file_extension": ".py",
   "mimetype": "text/x-python",
   "name": "python",
   "nbconvert_exporter": "python",
   "pygments_lexer": "ipython3",
   "version": "3.12.0"
  }
 },
 "nbformat": 4,
 "nbformat_minor": 2
}
